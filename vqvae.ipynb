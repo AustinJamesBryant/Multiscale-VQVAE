{
 "cells": [
  {
   "cell_type": "markdown",
   "metadata": {},
   "source": [
    "# Train a Multiscale VQVAE on the cifar10 dataset"
   ]
  },
  {
   "cell_type": "markdown",
   "metadata": {},
   "source": [
    "## Imports"
   ]
  },
  {
   "cell_type": "code",
   "execution_count": null,
   "metadata": {},
   "outputs": [],
   "source": [
    "import os, torch\n",
    "import pytorch_lightning as pl\n",
    "from pytorch_lightning.loggers import TensorBoardLogger\n",
    "from pytorch_lightning.callbacks import ModelCheckpoint\n",
    "import matplotlib.pyplot as plt\n",
    "\n",
    "# Import dataset\n",
    "from data.PD12M import PD12MDataModule\n",
    "\n",
    "# Import the MultiscaleVQVAE\n",
    "from model.model import ModelArgs, LitMultiscaleVQVAE\n"
   ]
  },
  {
   "cell_type": "markdown",
   "metadata": {},
   "source": [
    "## Dataset"
   ]
  },
  {
   "cell_type": "code",
   "execution_count": null,
   "metadata": {},
   "outputs": [],
   "source": [
    "dm = PD12MDataModule(batch_size=4, num_workers=16)\n",
    "train_loader = dm.train_dataloader()\n",
    "val_loader = dm.val_dataloader()"
   ]
  },
  {
   "cell_type": "markdown",
   "metadata": {},
   "source": [
    "## Create our VQVAE model"
   ]
  },
  {
   "cell_type": "code",
   "execution_count": null,
   "metadata": {},
   "outputs": [],
   "source": [
    "# 1. Define the model configuration.\n",
    "model_args = ModelArgs(\n",
    "    codebook_size=16384,\n",
    "    codebook_embed_dim=8,\n",
    "    codebook_l2_norm=True,\n",
    "    codebook_show_usage=True,\n",
    "    commit_loss_beta=0.25,\n",
    "    entropy_loss_ratio=0.0,\n",
    "    encoder_ch_mult=[1, 2, 2, 4],\n",
    "    decoder_ch_mult=[1, 2, 2, 4],\n",
    "    z_channels=256,\n",
    "    dropout_p=0.0,\n",
    ")\n",
    "\n",
    "# 2. Initialize the Lightning module.\n",
    "model = LitMultiscaleVQVAE(\n",
    "    model_args=model_args,\n",
    "    patch_nums=(1, 2, 4, 8, 16, 32),\n",
    "    learning_rate=1e-4,\n",
    ")\n"
   ]
  },
  {
   "cell_type": "markdown",
   "metadata": {},
   "source": [
    "## Train our model"
   ]
  },
  {
   "cell_type": "code",
   "execution_count": null,
   "metadata": {},
   "outputs": [],
   "source": [
    "# 4. Configure a logger (here, TensorBoardLogger).\n",
    "logger = TensorBoardLogger(\".tensorboard\", name=\"multiscale_vqvae\")\n",
    "\n",
    "checkpoint_callback = ModelCheckpoint(\n",
    "    dirpath=\"checkpoints\",\n",
    "    filename=\"model-{epoch:02d}-{step:08d}\",  # makes each checkpoint unique\n",
    "    every_n_train_steps=1000,  # adjust this number as needed\n",
    "    save_top_k=-1  # save all checkpoints\n",
    ")\n",
    "\n",
    "# 5. Initialize the Trainer.\n",
    "trainer = pl.Trainer(\n",
    "    max_epochs=10,\n",
    "    accelerator=\"gpu\",\n",
    "    devices=\"auto\",  # or specify an integer like devices=1 for one GPU\n",
    "    logger=logger,\n",
    "    log_every_n_steps=20,  # use this instead of progress_bar_refresh_rate\n",
    "    callbacks=[checkpoint_callback]\n",
    ")\n",
    "\n",
    "# 6. Train the model.\n",
    "trainer.fit(model, train_loader)"
   ]
  },
  {
   "cell_type": "markdown",
   "metadata": {},
   "source": [
    "## Visualize reconstructions"
   ]
  },
  {
   "cell_type": "code",
   "execution_count": null,
   "metadata": {},
   "outputs": [],
   "source": [
    "# Move model to GPU if not already on it\n",
    "model.to(\"cuda\")\n",
    "model.eval()\n",
    "\n",
    "with torch.no_grad():\n",
    "    # Get one batch from the evaluation DataLoader and move it to GPU\n",
    "    eval_batch = next(iter(val_loader))[0].to(\"cuda\")\n",
    "    scales = (1, 2, 4, 8, 16)\n",
    "    # Forward pass with multi-scale encoding\n",
    "    reconstructions, _ = model.vqvae(eval_batch, v_patch_nums=scales)\n",
    "\n",
    "# Create image grids for the input images\n",
    "input_grid = make_grid(eval_batch.cpu(), nrow=8, padding=2)\n",
    "\n",
    "# Set up subplots: one column for the input, one for each scale reconstruction\n",
    "n_scales = len(scales)\n",
    "fig, axes = plt.subplots(1, n_scales + 1, figsize=(4 * (n_scales + 1), 6))\n",
    "\n",
    "axes[0].imshow(input_grid.permute(1, 2, 0))\n",
    "axes[0].set_title(\"Input Images\")\n",
    "axes[0].axis(\"off\")\n",
    "\n",
    "for i, recon in enumerate(reconstructions):\n",
    "    recon_grid = make_grid(recon.cpu(), nrow=8, padding=2)\n",
    "    axes[i + 1].imshow(recon_grid.permute(1, 2, 0))\n",
    "    axes[i + 1].set_title(f\"Scale {scales[i]}\")\n",
    "    axes[i + 1].axis(\"off\")\n",
    "\n",
    "plt.tight_layout()\n",
    "plt.show()"
   ]
  },
  {
   "cell_type": "markdown",
   "metadata": {},
   "source": [
    "## Save trained model"
   ]
  },
  {
   "cell_type": "code",
   "execution_count": null,
   "metadata": {},
   "outputs": [],
   "source": [
    "# Define the artifacts directory using os.path.join\n",
    "artifacts_dir = os.path.join(\".\", \".artifacts\")\n",
    "os.makedirs(artifacts_dir, exist_ok=True)\n",
    "\n",
    "# Define the file path for saving the model state\n",
    "model_save_path = os.path.join(artifacts_dir, \"vqvae.pt\")\n",
    "\n",
    "# Save the model's state dictionary\n",
    "torch.save(model.vqvae.state_dict(), model_save_path)\n",
    "print(f\"Model saved to {model_save_path}\")\n"
   ]
  }
 ],
 "metadata": {
  "kernelspec": {
   "display_name": ".venv",
   "language": "python",
   "name": "python3"
  },
  "language_info": {
   "codemirror_mode": {
    "name": "ipython",
    "version": 3
   },
   "file_extension": ".py",
   "mimetype": "text/x-python",
   "name": "python",
   "nbconvert_exporter": "python",
   "pygments_lexer": "ipython3",
   "version": "3.13.2"
  }
 },
 "nbformat": 4,
 "nbformat_minor": 2
}
